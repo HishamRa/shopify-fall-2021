{
 "cells": [
  {
   "cell_type": "markdown",
   "source": [
    "## Shopify Fall 2021 Data Science Challenge\n",
    "**Q1) a] Think about what could be going wrong with our calculation. Think about a better way to evaluate this data.**"
   ],
   "metadata": {
    "collapsed": false
   }
  },
  {
   "cell_type": "code",
   "execution_count": 111,
   "outputs": [],
   "source": [
    "#importing libraries\n",
    "import pandas as pd\n",
    "import numpy as np\n",
    "import matplotlib.pyplot as plt\n",
    "%matplotlib inline\n",
    "import seaborn as sns"
   ],
   "metadata": {
    "collapsed": false,
    "pycharm": {
     "name": "#%%\n"
    }
   }
  },
  {
   "cell_type": "code",
   "execution_count": 112,
   "outputs": [
    {
     "data": {
      "text/plain": "   order_id  shop_id  user_id  order_amount  total_items payment_method  \\\n0         1       53      746           224            2           cash   \n1         2       92      925            90            1           cash   \n2         3       44      861           144            1           cash   \n3         4       18      935           156            1    credit_card   \n4         5       18      883           156            1    credit_card   \n\n            created_at  \n0  2017-03-13 12:36:56  \n1  2017-03-03 17:38:52  \n2   2017-03-14 4:23:56  \n3  2017-03-26 12:43:37  \n4   2017-03-01 4:35:11  ",
      "text/html": "<div>\n<style scoped>\n    .dataframe tbody tr th:only-of-type {\n        vertical-align: middle;\n    }\n\n    .dataframe tbody tr th {\n        vertical-align: top;\n    }\n\n    .dataframe thead th {\n        text-align: right;\n    }\n</style>\n<table border=\"1\" class=\"dataframe\">\n  <thead>\n    <tr style=\"text-align: right;\">\n      <th></th>\n      <th>order_id</th>\n      <th>shop_id</th>\n      <th>user_id</th>\n      <th>order_amount</th>\n      <th>total_items</th>\n      <th>payment_method</th>\n      <th>created_at</th>\n    </tr>\n  </thead>\n  <tbody>\n    <tr>\n      <th>0</th>\n      <td>1</td>\n      <td>53</td>\n      <td>746</td>\n      <td>224</td>\n      <td>2</td>\n      <td>cash</td>\n      <td>2017-03-13 12:36:56</td>\n    </tr>\n    <tr>\n      <th>1</th>\n      <td>2</td>\n      <td>92</td>\n      <td>925</td>\n      <td>90</td>\n      <td>1</td>\n      <td>cash</td>\n      <td>2017-03-03 17:38:52</td>\n    </tr>\n    <tr>\n      <th>2</th>\n      <td>3</td>\n      <td>44</td>\n      <td>861</td>\n      <td>144</td>\n      <td>1</td>\n      <td>cash</td>\n      <td>2017-03-14 4:23:56</td>\n    </tr>\n    <tr>\n      <th>3</th>\n      <td>4</td>\n      <td>18</td>\n      <td>935</td>\n      <td>156</td>\n      <td>1</td>\n      <td>credit_card</td>\n      <td>2017-03-26 12:43:37</td>\n    </tr>\n    <tr>\n      <th>4</th>\n      <td>5</td>\n      <td>18</td>\n      <td>883</td>\n      <td>156</td>\n      <td>1</td>\n      <td>credit_card</td>\n      <td>2017-03-01 4:35:11</td>\n    </tr>\n  </tbody>\n</table>\n</div>"
     },
     "execution_count": 112,
     "metadata": {},
     "output_type": "execute_result"
    }
   ],
   "source": [
    "#creating my dataframe\n",
    "s_df = pd.read_csv(\"shopify_data.csv\")\n",
    "s_df.head()"
   ],
   "metadata": {
    "collapsed": false,
    "pycharm": {
     "name": "#%%\n"
    }
   }
  },
  {
   "cell_type": "code",
   "execution_count": 113,
   "outputs": [
    {
     "data": {
      "text/plain": "          order_id      shop_id      user_id   order_amount  total_items\ncount  5000.000000  5000.000000  5000.000000    5000.000000   5000.00000\nmean   2500.500000    50.078800   849.092400    3145.128000      8.78720\nstd    1443.520003    29.006118    87.798982   41282.539349    116.32032\nmin       1.000000     1.000000   607.000000      90.000000      1.00000\n25%    1250.750000    24.000000   775.000000     163.000000      1.00000\n50%    2500.500000    50.000000   849.000000     284.000000      2.00000\n75%    3750.250000    75.000000   925.000000     390.000000      3.00000\nmax    5000.000000   100.000000   999.000000  704000.000000   2000.00000",
      "text/html": "<div>\n<style scoped>\n    .dataframe tbody tr th:only-of-type {\n        vertical-align: middle;\n    }\n\n    .dataframe tbody tr th {\n        vertical-align: top;\n    }\n\n    .dataframe thead th {\n        text-align: right;\n    }\n</style>\n<table border=\"1\" class=\"dataframe\">\n  <thead>\n    <tr style=\"text-align: right;\">\n      <th></th>\n      <th>order_id</th>\n      <th>shop_id</th>\n      <th>user_id</th>\n      <th>order_amount</th>\n      <th>total_items</th>\n    </tr>\n  </thead>\n  <tbody>\n    <tr>\n      <th>count</th>\n      <td>5000.000000</td>\n      <td>5000.000000</td>\n      <td>5000.000000</td>\n      <td>5000.000000</td>\n      <td>5000.00000</td>\n    </tr>\n    <tr>\n      <th>mean</th>\n      <td>2500.500000</td>\n      <td>50.078800</td>\n      <td>849.092400</td>\n      <td>3145.128000</td>\n      <td>8.78720</td>\n    </tr>\n    <tr>\n      <th>std</th>\n      <td>1443.520003</td>\n      <td>29.006118</td>\n      <td>87.798982</td>\n      <td>41282.539349</td>\n      <td>116.32032</td>\n    </tr>\n    <tr>\n      <th>min</th>\n      <td>1.000000</td>\n      <td>1.000000</td>\n      <td>607.000000</td>\n      <td>90.000000</td>\n      <td>1.00000</td>\n    </tr>\n    <tr>\n      <th>25%</th>\n      <td>1250.750000</td>\n      <td>24.000000</td>\n      <td>775.000000</td>\n      <td>163.000000</td>\n      <td>1.00000</td>\n    </tr>\n    <tr>\n      <th>50%</th>\n      <td>2500.500000</td>\n      <td>50.000000</td>\n      <td>849.000000</td>\n      <td>284.000000</td>\n      <td>2.00000</td>\n    </tr>\n    <tr>\n      <th>75%</th>\n      <td>3750.250000</td>\n      <td>75.000000</td>\n      <td>925.000000</td>\n      <td>390.000000</td>\n      <td>3.00000</td>\n    </tr>\n    <tr>\n      <th>max</th>\n      <td>5000.000000</td>\n      <td>100.000000</td>\n      <td>999.000000</td>\n      <td>704000.000000</td>\n      <td>2000.00000</td>\n    </tr>\n  </tbody>\n</table>\n</div>"
     },
     "execution_count": 113,
     "metadata": {},
     "output_type": "execute_result"
    }
   ],
   "source": [
    "#getting a summary for my dataset\n",
    "s_df.describe()"
   ],
   "metadata": {
    "collapsed": false,
    "pycharm": {
     "name": "#%%\n"
    }
   }
  },
  {
   "cell_type": "markdown",
   "source": [
    "We can see here where the 3145 value came from below."
   ],
   "metadata": {
    "collapsed": false
   }
  },
  {
   "cell_type": "code",
   "execution_count": 114,
   "outputs": [
    {
     "data": {
      "text/plain": "count      5000.000000\nmean       3145.128000\nstd       41282.539349\nmin          90.000000\n25%         163.000000\n50%         284.000000\n75%         390.000000\nmax      704000.000000\nName: order_amount, dtype: float64"
     },
     "execution_count": 114,
     "metadata": {},
     "output_type": "execute_result"
    }
   ],
   "source": [
    "#creating a summary for our target column\n",
    "s_df.order_amount.describe()"
   ],
   "metadata": {
    "collapsed": false,
    "pycharm": {
     "name": "#%%\n"
    }
   }
  },
  {
   "cell_type": "markdown",
   "source": [
    "We have a high standard deviation value which means the values are far from the mean and not distributed normally. Which indicates the presence of extreme values in the data, hence taking the mean as the metric would be very inaccurate.\n",
    "\n",
    "Another thing to note that my min and max values vary significantly which confirms the presence of outliers in the data.\n"
   ],
   "metadata": {
    "collapsed": false
   }
  },
  {
   "cell_type": "code",
   "execution_count": 115,
   "outputs": [
    {
     "data": {
      "text/plain": "0"
     },
     "execution_count": 115,
     "metadata": {},
     "output_type": "execute_result"
    }
   ],
   "source": [
    "#checking for any empty values\n",
    "s_df.order_amount.isnull().sum()"
   ],
   "metadata": {
    "collapsed": false,
    "pycharm": {
     "name": "#%%\n"
    }
   }
  },
  {
   "cell_type": "code",
   "execution_count": 116,
   "outputs": [
    {
     "data": {
      "text/plain": "<Figure size 432x288 with 1 Axes>",
      "image/png": "[encoded data removed]"
     },
     "metadata": {
      "needs_background": "light"
     },
     "output_type": "display_data"
    },
    {
     "data": {
      "text/plain": "<Figure size 360x216 with 1 Axes>",
      "image/png": "[encoded data removed]"
     },
     "metadata": {
      "needs_background": "light"
     },
     "output_type": "display_data"
    }
   ],
   "source": [
    "#visualizing my target column by creating boxplots using seaborn and matplotlib\n",
    "sns.boxplot(x=s_df['order_amount'])\n",
    "plt.show()\n",
    "s_df['order_amount'].plot.box(figsize=(5,3))\n",
    "plt.tight_layout()\n",
    "plt.show()"
   ],
   "metadata": {
    "collapsed": false,
    "pycharm": {
     "name": "#%%\n"
    }
   }
  },
  {
   "cell_type": "markdown",
   "source": [
    "As expected from the visualizations above, there are a lot of outliers in the data that are influencing the inaccurate representation of the mean metric.\n",
    "\n",
    "We can use the z-score and IQR method to detect and treat the outliers."
   ],
   "metadata": {
    "collapsed": false,
    "pycharm": {
     "name": "#%% md\n"
    }
   }
  },
  {
   "cell_type": "code",
   "execution_count": 117,
   "outputs": [
    {
     "name": "stdout",
     "output_type": "stream",
     "text": [
      "outlier in dataset is [704000, 704000, 704000, 154350, 704000, 704000, 704000, 704000, 704000, 704000, 704000, 704000, 704000, 704000, 704000, 704000, 704000, 704000]\n"
     ]
    }
   ],
   "source": [
    "#using the z-score approach to identify my outliers\n",
    "mean = np.mean(s_df.order_amount)\n",
    "std = np.std(s_df.order_amount)\n",
    "threshold = 3\n",
    "outlier = []\n",
    "for i in s_df.order_amount:\n",
    "    z = (i-mean)/std\n",
    "    if z > threshold:\n",
    "        outlier.append(i)\n",
    "print('outlier in dataset is', outlier)"
   ],
   "metadata": {
    "collapsed": false,
    "pycharm": {
     "name": "#%%\n"
    }
   }
  },
  {
   "cell_type": "markdown",
   "source": [
    "We can see here 704000 and 154350 are the values of our interest in the data that\n",
    "are causing the fluctuations in the mean value."
   ],
   "metadata": {
    "collapsed": false,
    "pycharm": {
     "name": "#%% md\n"
    }
   }
  },
  {
   "cell_type": "code",
   "execution_count": 118,
   "outputs": [],
   "source": [
    "#using the IRQ method to treat the outliers\n",
    "Q1 = s_df['order_amount'].quantile(0.25)\n",
    "Q2 = s_df['order_amount'].quantile(0.5)\n",
    "Q3 = s_df['order_amount'].quantile(0.75)\n",
    "IQR = Q3 - Q1\n",
    "lower_whisker = Q1-1.5*IQR\n",
    "upper_whisker = Q3+1.5*IQR\n",
    "filtered_df= s_df[(s_df.order_amount > Q2-1.5*IQR) & (s_df.order_amount < Q2+1.5*IQR)]"
   ],
   "metadata": {
    "collapsed": false,
    "pycharm": {
     "name": "#%%\n"
    }
   }
  },
  {
   "cell_type": "markdown",
   "source": [
    "This distribution is a lot more clear and accurate, I scaled a bit to have a more accurate representation of the boxplot."
   ],
   "metadata": {
    "collapsed": false,
    "pycharm": {
     "name": "#%% md\n"
    }
   }
  },
  {
   "cell_type": "code",
   "execution_count": 119,
   "outputs": [
    {
     "data": {
      "text/plain": "<Figure size 432x288 with 1 Axes>",
      "image/png": "[encoded data removed]"
     },
     "metadata": {
      "needs_background": "light"
     },
     "output_type": "display_data"
    }
   ],
   "source": [
    "#now visualizing my new boxplot dataframe\n",
    "\n",
    "sns.boxplot(x=filtered_df['order_amount'])\n",
    "plt.show()\n"
   ],
   "metadata": {
    "collapsed": false,
    "pycharm": {
     "name": "#%%\n"
    }
   }
  },
  {
   "cell_type": "markdown",
   "source": [
    "**What metric would you report for this dataset?**\n",
    "\n",
    "I would use the median since it is a better representation of the data when there are outliers present in the data, and we have extreme outliers here hence we cannot use the mean."
   ],
   "metadata": {
    "collapsed": false,
    "pycharm": {
     "name": "#%% md\n"
    }
   }
  },
  {
   "cell_type": "markdown",
   "source": [
    "**What is its value?**\n",
    "\n",
    "From below, the metric we are using is the median so our value is **272.00$**."
   ],
   "metadata": {
    "collapsed": false,
    "pycharm": {
     "name": "#%% md\n"
    }
   }
  },
  {
   "cell_type": "code",
   "execution_count": 120,
   "outputs": [
    {
     "data": {
      "text/plain": "count    4738.000000\nmean      283.814268\nstd       132.061996\nmin        90.000000\n25%       161.000000\n50%       272.000000\n75%       362.000000\nmax       624.000000\nName: order_amount, dtype: float64"
     },
     "execution_count": 120,
     "metadata": {},
     "output_type": "execute_result"
    }
   ],
   "source": [
    "filtered_df.order_amount.describe()\n",
    "\n",
    "\n"
   ],
   "metadata": {
    "collapsed": false,
    "pycharm": {
     "name": "#%%\n"
    }
   }
  },
  {
   "cell_type": "markdown",
   "source": [
    "**Q2) a]**\n",
    "\n",
    "**How many orders were shipped by Speedy Express in total?**\n",
    "```SQL\n",
    "SELECT COUNT(*) AS total_orders\n",
    "FROM Orders\n",
    "LEFT JOIN Shippers ON Orders.ShipperID=Shippers.ShipperID\n",
    "WHERE Shippers.ShipperName = 'Speedy Express';```\n",
    "\n",
    "**Answer: 54**"
   ],
   "metadata": {
    "collapsed": false,
    "pycharm": {
     "name": "#%% md\n"
    }
   }
  },
  {
   "cell_type": "markdown",
   "source": [
    "**Q2) b]**\n",
    "\n",
    "**What is the last name of the employee with the most orders?**\n",
    "\n",
    "```SQL\n",
    "SELECT Employees.LastName, Orders.OrderID AS total_orders\n",
    "FROM Employees\n",
    "LEFT JOIN Orders ON Employees.EmployeeID=Orders.EmployeeID\n",
    "GROUP BY LastName\n",
    "ORDER BY COUNT(total_orders) DESC\n",
    "LIMIT 1;```\n",
    "\n",
    "**Answer: Peacock**"
   ],
   "metadata": {
    "collapsed": false
   }
  },
  {
   "cell_type": "markdown",
   "source": [
    "**Q2) c]**\n",
    "\n",
    "**What product was ordered the most by customers in Germany?**\n",
    "\n",
    "```SQL\n",
    "SELECT Products.ProductID, Products.ProductName, SUM(OrderDetails.Quantity) AS total_orders\n",
    "FROM OrderDetails\n",
    "LEFT JOIN Orders ON Orders.OrderID=OrderDetails.OrderID\n",
    "LEFT JOIN Products ON OrderDetails.ProductID=Products.ProductID\n",
    "LEFT JOIN Customers ON Orders.CustomerID=Customers.CustomerID\n",
    "WHERE Customers.Country='Germany'\n",
    "GROUP BY OrderDetails.ProductID\n",
    "ORDER BY total_orders DESC\n",
    "LIMIT 1;```\n",
    "\n",
    "**Answer: Boston Crab Meat with 160 orders**"
   ],
   "metadata": {
    "collapsed": false
   }
  }
 ],
 "metadata": {
  "kernelspec": {
   "display_name": "Python 3",
   "language": "python",
   "name": "python3"
  },
  "language_info": {
   "codemirror_mode": {
    "name": "ipython",
    "version": 2
   },
   "file_extension": ".py",
   "mimetype": "text/x-python",
   "name": "python",
   "nbconvert_exporter": "python",
   "pygments_lexer": "ipython2",
   "version": "2.7.6"
  }
 },
 "nbformat": 4,
 "nbformat_minor": 0
}